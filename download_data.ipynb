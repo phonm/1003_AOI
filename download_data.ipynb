{
 "cells": [
  {
   "cell_type": "markdown",
   "id": "15b26767",
   "metadata": {},
   "source": [
    "## 下載kaggle的資料集，最後會產生一個NEU-DET的資料夾"
   ]
  },
  {
   "cell_type": "code",
   "execution_count": 1,
   "id": "3a9216de",
   "metadata": {},
   "outputs": [],
   "source": [
    "# 安裝kaggle的套件\n",
    "!pip install -q kaggle"
   ]
  },
  {
   "cell_type": "code",
   "execution_count": 2,
   "id": "a4d6cbc1",
   "metadata": {},
   "outputs": [],
   "source": [
    "# 在根目錄底下建立一個kaggle的資料夾\n",
    "!mkdir ~/.kaggle"
   ]
  },
  {
   "cell_type": "code",
   "execution_count": 3,
   "id": "0f90dfee",
   "metadata": {},
   "outputs": [],
   "source": [
    "# 將kaggle.json設定檔複製到根目錄底下\n",
    "!cp kaggle.json ~/.kaggle/"
   ]
  },
  {
   "cell_type": "code",
   "execution_count": 4,
   "id": "a2262c23",
   "metadata": {},
   "outputs": [],
   "source": [
    "# 設定權限\n",
    "!chmod 600 ~/.kaggle/kaggle.json"
   ]
  },
  {
   "cell_type": "code",
   "execution_count": 5,
   "id": "9f156218",
   "metadata": {},
   "outputs": [
    {
     "name": "stdout",
     "output_type": "stream",
     "text": [
      "Downloading neu-surface-defect-database.zip to /home/twskptm183/1003_AOI\n",
      " 68%|██████████████████████████▌            | 18.0M/26.4M [00:00<00:00, 189MB/s]\n",
      "100%|███████████████████████████████████████| 26.4M/26.4M [00:00<00:00, 220MB/s]\n"
     ]
    }
   ],
   "source": [
    "# 下載檔案 (需要一些時間)\n",
    "!kaggle datasets download -d kaustubhdikshit/neu-surface-defect-database"
   ]
  },
  {
   "cell_type": "code",
   "execution_count": 6,
   "id": "916282d4",
   "metadata": {},
   "outputs": [],
   "source": [
    "# 解壓縮 (需要一些時間)\n",
    "!unzip -q neu-surface-defect-database.zip"
   ]
  },
  {
   "cell_type": "code",
   "execution_count": null,
   "id": "b7cd6753",
   "metadata": {},
   "outputs": [],
   "source": []
  }
 ],
 "metadata": {
  "kernelspec": {
   "display_name": "Python 3 (ipykernel)",
   "language": "python",
   "name": "python3"
  },
  "language_info": {
   "codemirror_mode": {
    "name": "ipython",
    "version": 3
   },
   "file_extension": ".py",
   "mimetype": "text/x-python",
   "name": "python",
   "nbconvert_exporter": "python",
   "pygments_lexer": "ipython3",
   "version": "3.8.10"
  }
 },
 "nbformat": 4,
 "nbformat_minor": 5
}
